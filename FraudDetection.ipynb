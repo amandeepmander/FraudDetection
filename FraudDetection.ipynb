{
 "cells": [
  {
   "cell_type": "markdown",
   "metadata": {},
   "source": [
    "# Credit Card Fraud Detection"
   ]
  },
  {
   "cell_type": "code",
   "execution_count": 1,
   "metadata": {},
   "outputs": [],
   "source": [
    "# Import libraries\n",
    "import numpy as np\n",
    "import sklearn as sk\n",
    "import pandas as pd\n",
    "import matplotlib.pyplot as plt\n",
    "from sklearn.preprocessing import scale\n",
    "import random\n",
    "import seaborn as sns\n",
    "from sklearn import linear_model\n",
    "from sklearn.model_selection import train_test_split"
   ]
  },
  {
   "cell_type": "markdown",
   "metadata": {},
   "source": [
    "### Load data"
   ]
  },
  {
   "cell_type": "code",
   "execution_count": 2,
   "metadata": {},
   "outputs": [
    {
     "data": {
      "text/html": [
       "<div>\n",
       "<style scoped>\n",
       "    .dataframe tbody tr th:only-of-type {\n",
       "        vertical-align: middle;\n",
       "    }\n",
       "\n",
       "    .dataframe tbody tr th {\n",
       "        vertical-align: top;\n",
       "    }\n",
       "\n",
       "    .dataframe thead th {\n",
       "        text-align: right;\n",
       "    }\n",
       "</style>\n",
       "<table border=\"1\" class=\"dataframe\">\n",
       "  <thead>\n",
       "    <tr style=\"text-align: right;\">\n",
       "      <th></th>\n",
       "      <th>Time</th>\n",
       "      <th>V1</th>\n",
       "      <th>V2</th>\n",
       "      <th>V3</th>\n",
       "      <th>V4</th>\n",
       "      <th>V5</th>\n",
       "      <th>V6</th>\n",
       "      <th>V7</th>\n",
       "      <th>V8</th>\n",
       "      <th>V9</th>\n",
       "      <th>...</th>\n",
       "      <th>V21</th>\n",
       "      <th>V22</th>\n",
       "      <th>V23</th>\n",
       "      <th>V24</th>\n",
       "      <th>V25</th>\n",
       "      <th>V26</th>\n",
       "      <th>V27</th>\n",
       "      <th>V28</th>\n",
       "      <th>Amount</th>\n",
       "      <th>Class</th>\n",
       "    </tr>\n",
       "  </thead>\n",
       "  <tbody>\n",
       "    <tr>\n",
       "      <th>0</th>\n",
       "      <td>85520.0</td>\n",
       "      <td>-1.050744</td>\n",
       "      <td>0.935288</td>\n",
       "      <td>0.852733</td>\n",
       "      <td>1.160638</td>\n",
       "      <td>-0.196647</td>\n",
       "      <td>0.331051</td>\n",
       "      <td>0.113901</td>\n",
       "      <td>0.052232</td>\n",
       "      <td>0.730469</td>\n",
       "      <td>...</td>\n",
       "      <td>0.054207</td>\n",
       "      <td>1.019403</td>\n",
       "      <td>0.354598</td>\n",
       "      <td>0.171959</td>\n",
       "      <td>-1.310557</td>\n",
       "      <td>0.419253</td>\n",
       "      <td>-0.267570</td>\n",
       "      <td>-0.161344</td>\n",
       "      <td>8.49</td>\n",
       "      <td>0</td>\n",
       "    </tr>\n",
       "    <tr>\n",
       "      <th>1</th>\n",
       "      <td>57927.0</td>\n",
       "      <td>1.304809</td>\n",
       "      <td>-0.523280</td>\n",
       "      <td>0.224944</td>\n",
       "      <td>-0.187085</td>\n",
       "      <td>-1.281413</td>\n",
       "      <td>-0.894429</td>\n",
       "      <td>-0.834555</td>\n",
       "      <td>-0.021814</td>\n",
       "      <td>-0.189756</td>\n",
       "      <td>...</td>\n",
       "      <td>-0.384447</td>\n",
       "      <td>-0.570307</td>\n",
       "      <td>-0.013528</td>\n",
       "      <td>0.282173</td>\n",
       "      <td>0.179309</td>\n",
       "      <td>1.147533</td>\n",
       "      <td>-0.019572</td>\n",
       "      <td>0.047595</td>\n",
       "      <td>27.10</td>\n",
       "      <td>0</td>\n",
       "    </tr>\n",
       "    <tr>\n",
       "      <th>2</th>\n",
       "      <td>32906.0</td>\n",
       "      <td>1.131880</td>\n",
       "      <td>-0.128536</td>\n",
       "      <td>1.154928</td>\n",
       "      <td>1.153765</td>\n",
       "      <td>-0.805890</td>\n",
       "      <td>0.304220</td>\n",
       "      <td>-0.703434</td>\n",
       "      <td>0.287948</td>\n",
       "      <td>0.730599</td>\n",
       "      <td>...</td>\n",
       "      <td>-0.038043</td>\n",
       "      <td>0.036293</td>\n",
       "      <td>-0.052424</td>\n",
       "      <td>-0.005532</td>\n",
       "      <td>0.412210</td>\n",
       "      <td>-0.404397</td>\n",
       "      <td>0.064822</td>\n",
       "      <td>0.023810</td>\n",
       "      <td>9.99</td>\n",
       "      <td>0</td>\n",
       "    </tr>\n",
       "    <tr>\n",
       "      <th>3</th>\n",
       "      <td>67854.0</td>\n",
       "      <td>0.670219</td>\n",
       "      <td>1.610644</td>\n",
       "      <td>-1.601980</td>\n",
       "      <td>1.773634</td>\n",
       "      <td>0.957645</td>\n",
       "      <td>-1.714894</td>\n",
       "      <td>0.932065</td>\n",
       "      <td>-0.212100</td>\n",
       "      <td>-0.477260</td>\n",
       "      <td>...</td>\n",
       "      <td>-0.067179</td>\n",
       "      <td>0.090382</td>\n",
       "      <td>0.204985</td>\n",
       "      <td>0.274531</td>\n",
       "      <td>-0.577911</td>\n",
       "      <td>-0.406715</td>\n",
       "      <td>0.272897</td>\n",
       "      <td>0.019916</td>\n",
       "      <td>12.10</td>\n",
       "      <td>0</td>\n",
       "    </tr>\n",
       "    <tr>\n",
       "      <th>4</th>\n",
       "      <td>34132.0</td>\n",
       "      <td>-0.664645</td>\n",
       "      <td>0.441596</td>\n",
       "      <td>1.076684</td>\n",
       "      <td>-1.615820</td>\n",
       "      <td>-0.584929</td>\n",
       "      <td>-0.663820</td>\n",
       "      <td>-0.117274</td>\n",
       "      <td>0.385881</td>\n",
       "      <td>-1.536217</td>\n",
       "      <td>...</td>\n",
       "      <td>-0.260474</td>\n",
       "      <td>-0.416955</td>\n",
       "      <td>0.079876</td>\n",
       "      <td>0.096726</td>\n",
       "      <td>-0.664974</td>\n",
       "      <td>0.767296</td>\n",
       "      <td>-0.039244</td>\n",
       "      <td>0.065641</td>\n",
       "      <td>1.00</td>\n",
       "      <td>0</td>\n",
       "    </tr>\n",
       "  </tbody>\n",
       "</table>\n",
       "<p>5 rows × 31 columns</p>\n",
       "</div>"
      ],
      "text/plain": [
       "      Time        V1        V2        V3        V4        V5        V6  \\\n",
       "0  85520.0 -1.050744  0.935288  0.852733  1.160638 -0.196647  0.331051   \n",
       "1  57927.0  1.304809 -0.523280  0.224944 -0.187085 -1.281413 -0.894429   \n",
       "2  32906.0  1.131880 -0.128536  1.154928  1.153765 -0.805890  0.304220   \n",
       "3  67854.0  0.670219  1.610644 -1.601980  1.773634  0.957645 -1.714894   \n",
       "4  34132.0 -0.664645  0.441596  1.076684 -1.615820 -0.584929 -0.663820   \n",
       "\n",
       "         V7        V8        V9  ...       V21       V22       V23       V24  \\\n",
       "0  0.113901  0.052232  0.730469  ...  0.054207  1.019403  0.354598  0.171959   \n",
       "1 -0.834555 -0.021814 -0.189756  ... -0.384447 -0.570307 -0.013528  0.282173   \n",
       "2 -0.703434  0.287948  0.730599  ... -0.038043  0.036293 -0.052424 -0.005532   \n",
       "3  0.932065 -0.212100 -0.477260  ... -0.067179  0.090382  0.204985  0.274531   \n",
       "4 -0.117274  0.385881 -1.536217  ... -0.260474 -0.416955  0.079876  0.096726   \n",
       "\n",
       "        V25       V26       V27       V28  Amount  Class  \n",
       "0 -1.310557  0.419253 -0.267570 -0.161344    8.49      0  \n",
       "1  0.179309  1.147533 -0.019572  0.047595   27.10      0  \n",
       "2  0.412210 -0.404397  0.064822  0.023810    9.99      0  \n",
       "3 -0.577911 -0.406715  0.272897  0.019916   12.10      0  \n",
       "4 -0.664974  0.767296 -0.039244  0.065641    1.00      0  \n",
       "\n",
       "[5 rows x 31 columns]"
      ]
     },
     "execution_count": 2,
     "metadata": {},
     "output_type": "execute_result"
    }
   ],
   "source": [
    "# data source: https://www.kaggle.com/mlg-ulb/creditcardfraud)\n",
    "df = pd.read_csv('creditcard.csv', low_memory=False)\n",
    "df = df.sample(frac=1).reset_index(drop=True)\n",
    "df.head()"
   ]
  },
  {
   "cell_type": "markdown",
   "metadata": {},
   "source": [
    "### Data Exploration"
   ]
  },
  {
   "cell_type": "code",
   "execution_count": 3,
   "metadata": {},
   "outputs": [
    {
     "name": "stdout",
     "output_type": "stream",
     "text": [
      "Fraud Records:  492\n",
      "Non Fraud Records:  284315\n"
     ]
    }
   ],
   "source": [
    "# Get number of records with fraud and non-fraud\n",
    "fraud = df.loc[df['Class'] == 1]\n",
    "non_frauds = df.loc[df['Class'] == 0]\n",
    "print(\"Fraud Records: \", len(fraud))\n",
    "print(\"Non Fraud Records: \",len(non_frauds))"
   ]
  },
  {
   "cell_type": "markdown",
   "metadata": {},
   "source": [
    "### Visualize Data"
   ]
  },
  {
   "cell_type": "code",
   "execution_count": 4,
   "metadata": {},
   "outputs": [
    {
     "data": {
      "image/png": "[encoded data removed]",
      "text/plain": [
       "<Figure size 432x288 with 1 Axes>"
      ]
     },
     "metadata": {
      "needs_background": "light"
     },
     "output_type": "display_data"
    }
   ],
   "source": [
    "ax = sns.barplot(x=\"Class\", y=\"Amount\", data=df)"
   ]
  },
  {
   "cell_type": "markdown",
   "metadata": {},
   "source": [
    "### Machine Learning Model"
   ]
  },
  {
   "cell_type": "code",
   "execution_count": 5,
   "metadata": {},
   "outputs": [],
   "source": [
    "# Separate features and labels\n",
    "x = df.iloc[:,:-1]\n",
    "y = df['Class']\n",
    "\n",
    "# Split data into training and test sets using a 70-30 split of training / testing sets\n",
    "X_train, X_test, y_train, y_test = train_test_split(x, y, test_size = 0.3)"
   ]
  },
  {
   "cell_type": "code",
   "execution_count": 6,
   "metadata": {},
   "outputs": [
    {
     "data": {
      "text/plain": [
       "LogisticRegression(C=100000.0, class_weight=None, dual=False,\n",
       "                   fit_intercept=True, intercept_scaling=1, l1_ratio=None,\n",
       "                   max_iter=100, multi_class='warn', n_jobs=None, penalty='l2',\n",
       "                   random_state=None, solver='liblinear', tol=0.0001, verbose=0,\n",
       "                   warm_start=False)"
      ]
     },
     "execution_count": 6,
     "metadata": {},
     "output_type": "execute_result"
    }
   ],
   "source": [
    "# Train logistic model\n",
    "logistic = linear_model.LogisticRegression(C=1e5, solver='liblinear')\n",
    "logistic.fit(X_train, y_train)"
   ]
  },
  {
   "cell_type": "code",
   "execution_count": 7,
   "metadata": {},
   "outputs": [
    {
     "name": "stdout",
     "output_type": "stream",
     "text": [
      "Score:  0.9989700736163291\n"
     ]
    }
   ],
   "source": [
    "# Print the accuracy of the model on test data\n",
    "print('Score: ', logistic.score(X_test, y_test))"
   ]
  }
 ],
 "metadata": {
  "kernelspec": {
   "display_name": "LTVModel",
   "language": "python",
   "name": "ltvmodel"
  },
  "language_info": {
   "codemirror_mode": {
    "name": "ipython",
    "version": 3
   },
   "file_extension": ".py",
   "mimetype": "text/x-python",
   "name": "python",
   "nbconvert_exporter": "python",
   "pygments_lexer": "ipython3",
   "version": "3.7.3"
  }
 },
 "nbformat": 4,
 "nbformat_minor": 2
}
